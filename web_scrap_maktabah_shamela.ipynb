{
  "nbformat": 4,
  "nbformat_minor": 0,
  "metadata": {
    "colab": {
      "provenance": []
    },
    "kernelspec": {
      "name": "python3",
      "display_name": "Python 3"
    },
    "language_info": {
      "name": "python"
    }
  },
  "cells": [
    {
      "cell_type": "code",
      "execution_count": 75,
      "metadata": {
        "id": "YhVd_yYSMgNr"
      },
      "outputs": [],
      "source": [
        "# Scrap contents from maktabah shamela\n",
        "import requests\n",
        "from bs4 import BeautifulSoup"
      ]
    },
    {
      "cell_type": "code",
      "source": [
        "# gunakan fungsi ini untuk scrap 1 halaman\n",
        "# id_buku bisa dilihat dari URL \n",
        "def request_page(id_buku, nomor_halaman):\n",
        "    URL = \"https://shamela.ws/book/\"+str(id_buku)+\"/\"+str(nomor_halaman)\n",
        "    page = requests.get(URL)\n",
        "\n",
        "    soup = BeautifulSoup(page.content, \"html.parser\")\n",
        "    results = soup.find(id=\"wrapper\")\n",
        "    job_elements = results.find_all(\"div\", class_=\"nass\")\n",
        "    \n",
        "    content_in = \"\"\n",
        "    for job_element in job_elements:\n",
        "        for the_element in job_element.find_all(\"p\"):\n",
        "            content_in += the_element.text+'\\n'\n",
        "    \n",
        "    return content_in"
      ],
      "metadata": {
        "id": "wCLR1K5kMpXw"
      },
      "execution_count": 76,
      "outputs": []
    },
    {
      "cell_type": "code",
      "source": [
        "# gunakan fungsi ini untuk scrap 1 buku\n",
        "def get_book(id_buku, nomor_halaman_awal, nomor_halaman_akhir, save_to_file=False):\n",
        "    content = \"\"\n",
        "\n",
        "    for i in range(nomor_halaman_awal, nomor_halaman_akhir):\n",
        "        content += request_page(id_buku, i)\n",
        "    \n",
        "    if save_to_file :\n",
        "        file = open(\"result.txt\", \"w\")\n",
        "        file.write(content)\n",
        "        file.close\n",
        "    else:\n",
        "        print(content)"
      ],
      "metadata": {
        "id": "sFF6MqXAzJ4F"
      },
      "execution_count": 77,
      "outputs": []
    },
    {
      "cell_type": "code",
      "source": [
        "# contoh penggunaan\n",
        "# 12836: contoh id buku Arbain Nawawi\n",
        "get_book(12836, 1, 3)\n",
        "\n",
        "# contoh untuk save hasil kedalam file\n",
        "#get_book(12836, 1, 3, True)"
      ],
      "metadata": {
        "colab": {
          "base_uri": "https://localhost:8080/"
        },
        "id": "48fwbP1DTFZg",
        "outputId": "8a859f10-32d8-480f-854f-6b7a0fc22894"
      },
      "execution_count": 78,
      "outputs": [
        {
          "output_type": "stream",
          "name": "stdout",
          "text": [
            "بسم الله الرحمن الرحيم\n",
            "[مقدمة المؤلف]\n",
            "الحمد لله رب العالمين قيوم السموات والأرضين. مدبر الخلائق أجمعين. باعث الرسل - صلواته وسلامه عليهم- إلى المكلفين لهدايتهم وبيان شرائع الدين بالدلائل القطعية، وواضحات البراهين.\n",
            "أحمده على جميع نعمه. وأسأله المزيد من فضله وكرمه.\n",
            "وأشهد أن لا إله إلا الله الواحد القهار. الكريم الغفار وأشهد أن سيدنا محمداً عبده ورسوله وحبيبه وخليله أفضل المخلوقين، المكرم بالقرآن العزيز المعجزة المستمرة على تعاقب السنين، وبالسنن المستنيرة للمسترشدين المخصوص بجوامع الكلم وسماحة الدين صلوات الله وسلامه عليه وعلى سائر النبيين والمرسلين وآل كل وسائر الصالحين.\n",
            "\n"
          ]
        }
      ]
    }
  ]
}